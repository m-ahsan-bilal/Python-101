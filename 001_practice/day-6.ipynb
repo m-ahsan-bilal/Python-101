{
 "cells": [
  {
   "cell_type": "markdown",
   "id": "f53b7701",
   "metadata": {},
   "source": [
    "# Day 6"
   ]
  },
  {
   "cell_type": "markdown",
   "id": "86d6406e",
   "metadata": {},
   "source": [
    "# Completed the maze puzzle like karel the robot "
   ]
  },
  {
   "cell_type": "code",
   "execution_count": null,
   "id": "c2c136f6",
   "metadata": {},
   "outputs": [],
   "source": [
    "# the code  \n",
    "def turn_right():\n",
    "    turn_left()\n",
    "    turn_left()\n",
    "    turn_left()\n",
    "    \n",
    "while not at_goal():\n",
    "    if right_is_clear():\n",
    "        turn_right()\n",
    "        move()\n",
    "    elif front_is_clear():\n",
    "          move()\n",
    "    else:\n",
    "           turn_left()   \n",
    "    \n",
    "        \n",
    "    \n",
    "# is written in a way that allows the robot to navigate through a maze\n",
    "# by always trying to turn right when possible, moving forward when the path is clear,\n",
    "# and turning left when no other options are available.\n",
    "# The robot will continue this process until it reaches its goal.\n",
    "# link of the code:\n",
    "# https://reeborg.ca/reeborg.html?lang=en&mode=python&menu=worlds%2Fmenus%2Freeborg_intro_en.json&name=Maze&url=worlds%2Ftutorial_en%2Fmaze1.json\n"
   ]
  },
  {
   "cell_type": "code",
   "execution_count": null,
   "id": "f4fd08ff",
   "metadata": {},
   "outputs": [],
   "source": []
  }
 ],
 "metadata": {
  "kernelspec": {
   "display_name": "python_basics",
   "language": "python",
   "name": "python3"
  },
  "language_info": {
   "codemirror_mode": {
    "name": "ipython",
    "version": 3
   },
   "file_extension": ".py",
   "mimetype": "text/x-python",
   "name": "python",
   "nbconvert_exporter": "python",
   "pygments_lexer": "ipython3",
   "version": "3.10.18"
  }
 },
 "nbformat": 4,
 "nbformat_minor": 5
}
