{
 "cells": [
  {
   "cell_type": "markdown",
   "id": "91b0984d",
   "metadata": {},
   "source": [
    "# Infinite Loop Example"
   ]
  },
  {
   "cell_type": "code",
   "execution_count": 7,
   "id": "e676514a",
   "metadata": {},
   "outputs": [
    {
     "name": "stdout",
     "output_type": "stream",
     "text": [
      "2\n",
      "4\n",
      "6\n",
      "8\n",
      "10\n",
      "FINAL VALUE:\n",
      " 10\n"
     ]
    }
   ],
   "source": [
    "box = 0\n",
    "while box != 10:\n",
    "    box +=2\n",
    "    print(box)\n",
    "\n",
    "print(\"FINAL VALUE:\\n\", box)    "
   ]
  }
 ],
 "metadata": {
  "kernelspec": {
   "display_name": "python_basics",
   "language": "python",
   "name": "python3"
  },
  "language_info": {
   "codemirror_mode": {
    "name": "ipython",
    "version": 3
   },
   "file_extension": ".py",
   "mimetype": "text/x-python",
   "name": "python",
   "nbconvert_exporter": "python",
   "pygments_lexer": "ipython3",
   "version": "3.10.18"
  }
 },
 "nbformat": 4,
 "nbformat_minor": 5
}
