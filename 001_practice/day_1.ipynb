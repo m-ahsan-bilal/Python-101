{
 "cells": [
  {
   "cell_type": "markdown",
   "id": "dc1de563",
   "metadata": {},
   "source": [
    "# Day 1"
   ]
  },
  {
   "cell_type": "code",
   "execution_count": null,
   "id": "7c46558d",
   "metadata": {
    "vscode": {
     "languageId": "plaintext"
    }
   },
   "outputs": [],
   "source": [
    "#1. Create a greeting for your program.\n",
    "print(\"Welcome to the Band Name Generator!\\n\")\n",
    "\n",
    "#2. Ask the user for the city that they grew up in.\n",
    "city = input(\" What is the name of the city you grew up in?\\n\")\n",
    "\n",
    "#3. Ask the user for the name of a pet.\n",
    "pet = input(\"What is the name of your pet?\\n\")\n",
    "\n",
    "#4. Combine the name of their city and pet and show them their band name.\n",
    "print(\"Your brand name would be \" + city + \" \" + pet + \".\\n\")\n",
    "#5. Make sure the input cursor shows on a new line:"
   ]
  }
 ],
 "metadata": {
  "language_info": {
   "name": "python"
  }
 },
 "nbformat": 4,
 "nbformat_minor": 5
}
