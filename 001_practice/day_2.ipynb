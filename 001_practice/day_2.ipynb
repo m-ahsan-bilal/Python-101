{
 "cells": [
  {
   "cell_type": "markdown",
   "id": "9e96e348",
   "metadata": {},
   "source": [
    "# Day-3 Projects & Exercises"
   ]
  },
  {
   "cell_type": "markdown",
   "id": "50115fd1",
   "metadata": {},
   "source": [
    "### Who's Paying\n",
    "# Instructions\n",
    "You are going to write a program which will select a random name from a list of names. The person selected will have to pay for everybody's food bill.\n",
    "\n",
    "Important: You are not allowed to use the  <span style=\"color: orange;\">choice()</span> function.\n",
    "\n",
    "**Line 8** splits the string  <span style=\"color: orange;\">names_string</span> into individual names and puts them inside a List called  <span style=\"color: orange;\">names</span>. For this to work, you must enter all the names as name followed by comma then space. e.g. name, name, name\n",
    "\n",
    "# Example Input\n",
    "> Angela, Ben, Jenny, Michael, Chloe\n",
    "Note: notice that there is a space between the comma and the next name.\n",
    "\n",
    "# Example Output\n",
    "> Michael is going to buy the meal today!\n"
   ]
  },
  {
   "cell_type": "code",
   "execution_count": 6,
   "id": "7674f524",
   "metadata": {},
   "outputs": [
    {
     "name": "stdout",
     "output_type": "stream",
     "text": [
      "\"Alice\" is going to buy the meal today!\n",
      "\"Alice\" is going to buy the meal today!\n"
     ]
    }
   ],
   "source": [
    "import random\n",
    "# Split string method\n",
    "names_string = input(\"Give me everybody's names, separated by a comma. \")\n",
    "names = names_string.split(\", \")\n",
    "# 🚨 Don't change the code above 👆\n",
    "\n",
    "#Write your code below this line 👇\n",
    "random_choice = random.choice(names)\n",
    "print(f\"{random_choice} is going to buy the meal today!\")\n",
    "\n",
    "\n",
    "# Alternative method using random.randint\n",
    "index = random.randint(0,len(names) - 1)\n",
    "random_name = names[index]\n",
    "print(f\"{random_name} is going to buy the meal today!\")\n",
    "\n",
    "\n",
    "\n",
    "\n"
   ]
  },
  {
   "cell_type": "code",
   "execution_count": null,
   "id": "6ce678d8",
   "metadata": {},
   "outputs": [],
   "source": []
  }
 ],
 "metadata": {
  "kernelspec": {
   "display_name": "python_basics",
   "language": "python",
   "name": "python3"
  },
  "language_info": {
   "codemirror_mode": {
    "name": "ipython",
    "version": 3
   },
   "file_extension": ".py",
   "mimetype": "text/x-python",
   "name": "python",
   "nbconvert_exporter": "python",
   "pygments_lexer": "ipython3",
   "version": "3.10.18"
  }
 },
 "nbformat": 4,
 "nbformat_minor": 5
}
