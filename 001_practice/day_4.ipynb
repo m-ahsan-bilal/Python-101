{
 "cells": [
  {
   "cell_type": "markdown",
   "id": "d82634c8",
   "metadata": {},
   "source": [
    "# Day 4"
   ]
  },
  {
   "cell_type": "markdown",
   "id": "735a1fbb",
   "metadata": {},
   "source": [
    "We will make stone paper scrissor game in this day."
   ]
  },
  {
   "cell_type": "markdown",
   "id": "1d132ae1",
   "metadata": {},
   "source": [
    "Rock Paper Scissors\n",
    "Instructions\n",
    "Make a rock, paper, scissors game.\n",
    "\n",
    "Inside the main.py file, you'll find the ASCII art for the hand signals already saved to a corresponding variable: rock, paper, and scissors. This will make it easy to print them out to the console.\n",
    "\n",
    "Start the game by asking the player:\n",
    "\n",
    "\"What do you choose? Type 0 for Rock, 1 for Paper or 2 for Scissors.\"\n",
    "\n",
    "From there you will need to figure out:\n",
    "\n",
    "How you will store the user's input.\n",
    "How you will generate a random choice for the computer.\n",
    "How you will compare the user's and the computer's choice to determine the winner (or a draw).\n",
    "And also how you will give feedback to the player.\n",
    "You can find the \"official\" rules of the game on the World Rock Paper Scissors Association website.\n",
    "\n",
    "Solution\n",
    "https://replit.com/@appbrewery/rock-paper-scissors-end"
   ]
  },
  {
   "cell_type": "code",
   "execution_count": 7,
   "id": "828c562b",
   "metadata": {},
   "outputs": [
    {
     "name": "stdout",
     "output_type": "stream",
     "text": [
      "Welcome to Rock, Paper, Scissors!\n",
      "You play scissors\n",
      "Computer play rock\n",
      "You lose!\n"
     ]
    }
   ],
   "source": [
    "rock = '''\n",
    "    _______\n",
    "---'   ____)\n",
    "      (_____)\n",
    "      (_____)\n",
    "      (____)\n",
    "---.__(___)\n",
    "'''\n",
    "\n",
    "paper = '''\n",
    "    _______\n",
    "---'   ____)____\n",
    "          ______)\n",
    "          _______)\n",
    "         _______)\n",
    "---.__________)\n",
    "'''\n",
    "\n",
    "scissors = '''\n",
    "    _______\n",
    "---'   ____)____\n",
    "          ______)\n",
    "       __________)\n",
    "      (____)\n",
    "---.__(___)\n",
    "'''\n",
    "\n",
    "#Write your code below this line 👇\n",
    "import random\n",
    "\n",
    "rock = 1\n",
    "scissors = 2\n",
    "paper = 3\n",
    "computer_play = random.randint(1,3)\n",
    "\n",
    "print(\"Welcome to Rock, Paper, Scissors!\")\n",
    "user_play = int(input(\"What do you choose? Type 1 for Rock, 2 for Scissors and 3 for paper.\\n\"))\n",
    "if user_play == 1:\n",
    "    print(\"You play rock \")\n",
    "    if computer_play == 1:\n",
    "        print(\"Computer play rock\")\n",
    "        print(\"It's a draw!\")\n",
    "    if computer_play == 2:\n",
    "        print(\"Computer play scissors\")\n",
    "        print(\"You win!\")\n",
    "    if computer_play == 3:\n",
    "        print(\"Computer play paper\")\n",
    "        print(\"You lose!\")\n",
    "elif user_play == 2:\n",
    "    print(\"You play scissors\")\n",
    "    if computer_play == 1:\n",
    "        print(\"Computer play rock\")\n",
    "        print(\"You lose!\")\n",
    "    if computer_play == 2:\n",
    "        print(\"Computer play scissors\")\n",
    "        print(\"It's a draw!\")\n",
    "    if computer_play == 3:\n",
    "        print(\"Computer play paper\")\n",
    "        print(\"You win!\")\n",
    "elif user_play == 3:\n",
    "    print(\"You play paper\")\n",
    "    if computer_play == 1:\n",
    "        print(\"Computer play rock\")\n",
    "        print(\"You win!\")\n",
    "    if computer_play == 2:\n",
    "        print(\"Computer play scissors\")\n",
    "        print(\"You lose!\")\n",
    "    if computer_play == 3:\n",
    "        print(\"Computer play paper\")\n",
    "        print(\"It's a draw!\")\n",
    "\n",
    "else:\n",
    "    print(\"You typed an invalid number, you lose!\")                \n",
    "\n",
    "\n",
    "\n",
    "\n",
    "\n"
   ]
  },
  {
   "cell_type": "markdown",
   "id": "d0cd68de",
   "metadata": {},
   "source": [
    "# Enhance version"
   ]
  },
  {
   "cell_type": "code",
   "execution_count": 1,
   "id": "ed2f14b5",
   "metadata": {},
   "outputs": [
    {
     "name": "stdout",
     "output_type": "stream",
     "text": [
      "Welcome to Rock, Paper, Scissors!\n",
      "You typed an invalid number, you lose!\n"
     ]
    }
   ],
   "source": [
    "import random\n",
    "\n",
    "rock = '''\n",
    "    _______\n",
    "---'   ____)\n",
    "      (_____)\n",
    "      (_____)\n",
    "      (____)\n",
    "---.__(___)\n",
    "'''\n",
    "\n",
    "paper = '''\n",
    "    _______\n",
    "---'   ____)____\n",
    "          ______)\n",
    "          _______)\n",
    "         _______)\n",
    "---.__________)\n",
    "'''\n",
    "\n",
    "scissors = '''\n",
    "    _______\n",
    "---'   ____)____\n",
    "          ______)\n",
    "       __________)\n",
    "      (____)\n",
    "---.__(___)\n",
    "'''\n",
    "\n",
    "# Store choices in a list for easy access\n",
    "game_images = [rock, scissors, paper]\n",
    "\n",
    "print(\"Welcome to Rock, Paper, Scissors!\")\n",
    "user_play = int(input(\"What do you choose? Type 1 for Rock, 2 for Scissors and 3 for Paper.\\n\"))\n",
    "\n",
    "if user_play < 1 or user_play > 3:\n",
    "    print(\"You typed an invalid number, you lose!\")\n",
    "else:\n",
    "    # Adjust index to start from 0\n",
    "    user_choice = game_images[user_play - 1]\n",
    "    computer_play = random.randint(1, 3)\n",
    "    computer_choice = game_images[computer_play - 1]\n",
    "\n",
    "    print(\"\\nYou played:\")\n",
    "    print(user_choice)\n",
    "\n",
    "    print(\"\\nComputer played:\")\n",
    "    print(computer_choice)\n",
    "\n",
    "    # Game logic\n",
    "    if user_play == computer_play:\n",
    "        print(\"It's a draw!\")\n",
    "    elif (user_play == 1 and computer_play == 2) or (user_play == 2 and computer_play == 3) or (user_play == 3 and computer_play == 1):\n",
    "        print(\"You win!\")\n",
    "    else:\n",
    "        print(\"You lose!\")\n"
   ]
  },
  {
   "cell_type": "code",
   "execution_count": null,
   "id": "c47b2fa9",
   "metadata": {},
   "outputs": [],
   "source": []
  }
 ],
 "metadata": {
  "kernelspec": {
   "display_name": "python_basics",
   "language": "python",
   "name": "python3"
  },
  "language_info": {
   "codemirror_mode": {
    "name": "ipython",
    "version": 3
   },
   "file_extension": ".py",
   "mimetype": "text/x-python",
   "name": "python",
   "nbconvert_exporter": "python",
   "pygments_lexer": "ipython3",
   "version": "3.10.18"
  }
 },
 "nbformat": 4,
 "nbformat_minor": 5
}
