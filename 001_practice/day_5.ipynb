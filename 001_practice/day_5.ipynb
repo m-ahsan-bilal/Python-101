{
 "cells": [
  {
   "cell_type": "markdown",
   "id": "675edafb",
   "metadata": {},
   "source": [
    "# Password Generator\n",
    "\n",
    "### Instructions\n",
    "\n",
    "The program will ask:\n",
    "\n",
    "> How many letters would you like in your password?\n",
    "> \n",
    "> How many symbols would you like?\n",
    "> \n",
    "> How many numbers would you like?\n",
    "> \n",
    "The objective is to take the inputs from the user to these questions and then generate a random password. Use your knowledge about Python lists and loops to complete the challenge.\n",
    "\n",
    "Easy Version (Step 1)\n",
    "Generate the password in sequence. If the user wants\n",
    "\n",
    "4 letters\n",
    "2 symbols and\n",
    "3 numbers\n",
    "then the password might look like this:\n",
    "\n",
    "fgdx$*924\n",
    "You can see that all the letters are together. All the symbols are together and all the numbers follow each other as well. Try to solve this problem first.\n",
    "\n",
    "Hard Version (Step 2)\n",
    "When you've completed the easy version, you're ready to tackle the hard version. In the advanced version of this project the final password does not follow a pattern. So the example above might look like this:\n",
    "\n",
    "x$d24g*f9\n",
    "And every time you generate a password, the positions of the symbols, numbers, and letters are different.\n",
    "\n"
   ]
  },
  {
   "cell_type": "code",
   "execution_count": null,
   "id": "63894f3d",
   "metadata": {},
   "outputs": [
    {
     "name": "stdout",
     "output_type": "stream",
     "text": [
      "Welcome to the PyPassword Generator!\n",
      "Your password is: UEym$#09\n",
      "8\n",
      "Your hard password is: yU9$E#0m\n"
     ]
    }
   ],
   "source": [
    "#Password Generator Project\n",
    "import random\n",
    "letters = ['a', 'b', 'c', 'd', 'e', 'f', 'g', 'h', 'i', 'j', 'k', 'l', 'm', 'n', 'o', 'p', 'q', 'r', 's', 't', 'u', 'v', 'w', 'x', 'y', 'z', 'A', 'B', 'C', 'D', 'E', 'F', 'G', 'H', 'I', 'J', 'K', 'L', 'M', 'N', 'O', 'P', 'Q', 'R', 'S', 'T', 'U', 'V', 'W', 'X', 'Y', 'Z']\n",
    "numbers = ['0', '1', '2', '3', '4', '5', '6', '7', '8', '9']\n",
    "symbols = ['!', '#', '$', '%', '&', '(', ')', '*', '+']\n",
    "\n",
    "print(\"Welcome to the PyPassword Generator!\")\n",
    "nr_letters= int(input(\"How many letters would you like in your password?\\n\")) \n",
    "nr_symbols = int(input(f\"How many symbols would you like?\\n\"))\n",
    "nr_numbers = int(input(f\"How many numbers would you like?\\n\"))\n",
    "\n",
    "#Eazy Level - Order not randomised:\n",
    "#e.g. 4 letter, 2 symbol, 2 number = JduE&!91\n",
    "\n",
    "Password = \"\"\n",
    "for char in range(1, nr_letters + 1):\n",
    "    Password += random.choice(letters)\n",
    "for symbol in range(1, nr_symbols +1):\n",
    "        Password += random.choice(symbols)\n",
    "for number in range(1, nr_numbers + 1):\n",
    "            Password += random.choice(numbers)\n",
    "print(f\"Your password is: {Password}\")         \n",
    "print(len(Password))   \n",
    "\n",
    "\n",
    "#Hard Level - Order of characters randomised:\n",
    "#e.g. 4 letter, 2 symbol, 2 number = g^2jk8&P\n",
    "hard_password = list(Password)\n",
    "random.shuffle(hard_password)\n",
    "print(f\"Your hard password is: {''.join(hard_password)}\")"
   ]
  },
  {
   "cell_type": "code",
   "execution_count": null,
   "id": "567ba95b",
   "metadata": {},
   "outputs": [],
   "source": []
  }
 ],
 "metadata": {
  "kernelspec": {
   "display_name": "python_basics",
   "language": "python",
   "name": "python3"
  },
  "language_info": {
   "codemirror_mode": {
    "name": "ipython",
    "version": 3
   },
   "file_extension": ".py",
   "mimetype": "text/x-python",
   "name": "python",
   "nbconvert_exporter": "python",
   "pygments_lexer": "ipython3",
   "version": "3.10.18"
  }
 },
 "nbformat": 4,
 "nbformat_minor": 5
}
