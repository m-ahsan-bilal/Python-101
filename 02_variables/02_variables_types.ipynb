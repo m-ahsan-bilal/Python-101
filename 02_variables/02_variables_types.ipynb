{
 "cells": [
  {
   "cell_type": "markdown",
   "id": "811100e1",
   "metadata": {},
   "source": [
    "# Type of Variables"
   ]
  },
  {
   "cell_type": "markdown",
   "id": "94264c87",
   "metadata": {},
   "source": [
    "## 1. Integers\n"
   ]
  },
  {
   "cell_type": "code",
   "execution_count": 2,
   "id": "6a19f516",
   "metadata": {},
   "outputs": [
    {
     "name": "stdout",
     "output_type": "stream",
     "text": [
      "<class 'int'>\n"
     ]
    }
   ],
   "source": [
    "age = 10\n",
    "print(type(age))"
   ]
  },
  {
   "cell_type": "markdown",
   "id": "68c027ee",
   "metadata": {},
   "source": [
    "## 2. Floating variables"
   ]
  },
  {
   "cell_type": "code",
   "execution_count": 3,
   "id": "2fc1258b",
   "metadata": {},
   "outputs": [
    {
     "data": {
      "text/plain": [
       "float"
      ]
     },
     "execution_count": 3,
     "metadata": {},
     "output_type": "execute_result"
    }
   ],
   "source": [
    "temperature = 36.6\n",
    "type(temperature)"
   ]
  },
  {
   "cell_type": "markdown",
   "id": "39dc283d",
   "metadata": {},
   "source": [
    "## 3. Strings"
   ]
  },
  {
   "cell_type": "code",
   "execution_count": 5,
   "id": "ed440dc2",
   "metadata": {},
   "outputs": [
    {
     "data": {
      "text/plain": [
       "str"
      ]
     },
     "execution_count": 5,
     "metadata": {},
     "output_type": "execute_result"
    }
   ],
   "source": [
    "greetings = \"Hello codanians\"\n",
    "type(greetings)"
   ]
  },
  {
   "cell_type": "markdown",
   "id": "f608dbc5",
   "metadata": {},
   "source": [
    "## 4. Bool"
   ]
  },
  {
   "cell_type": "code",
   "execution_count": 7,
   "id": "68c26fcc",
   "metadata": {},
   "outputs": [
    {
     "data": {
      "text/plain": [
       "bool"
      ]
     },
     "execution_count": 7,
     "metadata": {},
     "output_type": "execute_result"
    }
   ],
   "source": [
    "is_raining = False\n",
    "type(is_raining)"
   ]
  },
  {
   "cell_type": "markdown",
   "id": "c63eed23",
   "metadata": {},
   "source": [
    "## 5. List"
   ]
  },
  {
   "cell_type": "code",
   "execution_count": 4,
   "id": "b560467d",
   "metadata": {},
   "outputs": [
    {
     "name": "stdout",
     "output_type": "stream",
     "text": [
      "<class 'list'>\n"
     ]
    }
   ],
   "source": [
    "numbers =[1,5,6,7,2]\n",
    "print(type(numbers))\n"
   ]
  },
  {
   "cell_type": "markdown",
   "id": "61786eda",
   "metadata": {},
   "source": [
    "## 6. Tuple"
   ]
  },
  {
   "cell_type": "code",
   "execution_count": null,
   "id": "f3a61067",
   "metadata": {},
   "outputs": [],
   "source": [
    "numbers= (1,2,3,4,5)\n",
    "print(type(numbers))"
   ]
  },
  {
   "cell_type": "markdown",
   "id": "dd08172f",
   "metadata": {},
   "source": [
    "## 7. Dictionary"
   ]
  },
  {
   "cell_type": "code",
   "execution_count": 8,
   "id": "2d27ed1b",
   "metadata": {},
   "outputs": [
    {
     "name": "stdout",
     "output_type": "stream",
     "text": [
      "<class 'dict'>\n"
     ]
    }
   ],
   "source": [
    "person  = {\"name\": \"ahsan\",\"age\": 25}\n",
    "print(type(person))"
   ]
  },
  {
   "cell_type": "markdown",
   "id": "9b75e3b3",
   "metadata": {},
   "source": [
    "## 8. Set"
   ]
  },
  {
   "cell_type": "code",
   "execution_count": 9,
   "id": "391b45ae",
   "metadata": {},
   "outputs": [
    {
     "name": "stdout",
     "output_type": "stream",
     "text": [
      "<class 'set'>\n"
     ]
    }
   ],
   "source": [
    "set = {1,2,3,4,5}\n",
    "print(type(set))"
   ]
  },
  {
   "cell_type": "markdown",
   "id": "a181b09c",
   "metadata": {},
   "source": [
    "## 9. NoneType"
   ]
  },
  {
   "cell_type": "code",
   "execution_count": 10,
   "id": "ab4a3a2f",
   "metadata": {},
   "outputs": [
    {
     "name": "stdout",
     "output_type": "stream",
     "text": [
      "<class 'NoneType'>\n"
     ]
    }
   ],
   "source": [
    "result = None\n",
    "print(type(result))"
   ]
  },
  {
   "cell_type": "markdown",
   "id": "bab4870b",
   "metadata": {},
   "source": [
    "## 10. Complex Numbers"
   ]
  },
  {
   "cell_type": "code",
   "execution_count": null,
   "id": "96476006",
   "metadata": {},
   "outputs": [
    {
     "name": "stdout",
     "output_type": "stream",
     "text": [
      "<class 'complex'>\n"
     ]
    }
   ],
   "source": [
    "complex_number = 3+5j     \n",
    "print(type(complex_number))\n"
   ]
  },
  {
   "cell_type": "markdown",
   "id": "944f1e4b",
   "metadata": {},
   "source": [
    "### Final Conclusions"
   ]
  },
  {
   "cell_type": "markdown",
   "id": "8a2907a7",
   "metadata": {},
   "source": [
    "![](variable_types.png)"
   ]
  },
  {
   "cell_type": "markdown",
   "id": "0aff7cc4",
   "metadata": {},
   "source": [
    "# Exercise :"
   ]
  },
  {
   "cell_type": "markdown",
   "id": "d40d2bbe",
   "metadata": {},
   "source": [
    "get a "
   ]
  }
 ],
 "metadata": {
  "kernelspec": {
   "display_name": "python_basics",
   "language": "python",
   "name": "python3"
  },
  "language_info": {
   "codemirror_mode": {
    "name": "ipython",
    "version": 3
   },
   "file_extension": ".py",
   "mimetype": "text/x-python",
   "name": "python",
   "nbconvert_exporter": "python",
   "pygments_lexer": "ipython3",
   "version": "3.10.18"
  }
 },
 "nbformat": 4,
 "nbformat_minor": 5
}
