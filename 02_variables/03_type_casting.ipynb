{
 "cells": [
  {
   "cell_type": "markdown",
   "id": "ec867550",
   "metadata": {},
   "source": [
    "# **Type Casting**"
   ]
  },
  {
   "cell_type": "markdown",
   "id": "49939fde",
   "metadata": {},
   "source": [
    "## 1. int to float"
   ]
  },
  {
   "cell_type": "code",
   "execution_count": 4,
   "id": "ca4c34fd",
   "metadata": {},
   "outputs": [
    {
     "name": "stdout",
     "output_type": "stream",
     "text": [
      "<class 'int'>\n",
      "28\n",
      "<class 'float'>\n",
      "28.0\n"
     ]
    }
   ],
   "source": [
    "age_int = 28\n",
    "age_float = float(age_int)\n",
    "print(type(age_int))\n",
    "print(age_int)\n",
    "print(type(age_float))\n",
    "print(age_float)"
   ]
  },
  {
   "cell_type": "markdown",
   "id": "658a21d0",
   "metadata": {},
   "source": [
    "## 2. float to int"
   ]
  },
  {
   "cell_type": "code",
   "execution_count": 9,
   "id": "c73f3a60",
   "metadata": {},
   "outputs": [
    {
     "name": "stdout",
     "output_type": "stream",
     "text": [
      "<class 'int'>\n"
     ]
    }
   ],
   "source": [
    "price = 28.0\n",
    "price_int = int(price)\n",
    "print(type(price_int))"
   ]
  },
  {
   "cell_type": "markdown",
   "id": "1f6b6ae8",
   "metadata": {},
   "source": [
    "## 3. int, float to **string**"
   ]
  },
  {
   "cell_type": "code",
   "execution_count": 10,
   "id": "5e3c058f",
   "metadata": {},
   "outputs": [],
   "source": [
    "number_int = 89\n",
    "number_float = 89.5"
   ]
  },
  {
   "cell_type": "code",
   "execution_count": 11,
   "id": "12f4f563",
   "metadata": {},
   "outputs": [],
   "source": [
    "number_int = str(number_int)\n",
    "number_float = str(number_float)"
   ]
  },
  {
   "cell_type": "markdown",
   "id": "4dc5d150",
   "metadata": {},
   "source": [
    "## 4. string to int, float"
   ]
  },
  {
   "cell_type": "code",
   "execution_count": 12,
   "id": "6e69e19e",
   "metadata": {},
   "outputs": [],
   "source": [
    "value = \"100\"\n",
    "value_int = int(value)\n",
    "value_float = float(value)"
   ]
  },
  {
   "cell_type": "markdown",
   "id": "2fd5ea0d",
   "metadata": {},
   "source": [
    "## 5. List to tuple AND tuple to list"
   ]
  },
  {
   "cell_type": "code",
   "execution_count": 1,
   "id": "4dbf5f26",
   "metadata": {},
   "outputs": [
    {
     "name": "stdout",
     "output_type": "stream",
     "text": [
      "<class 'list'>\n",
      "<class 'tuple'>\n",
      "<class 'tuple'>\n",
      "<class 'list'>\n"
     ]
    }
   ],
   "source": [
    "my_list = [1, 2, 3, 4, 5]\n",
    "my_tuple = (1, 2, 3, 4, 5)\n",
    "print(type(my_list))\n",
    "print(type(my_tuple))\n",
    "#  changing them\n",
    "list_to_tuple = tuple(my_list)\n",
    "tuple_to_list = list(my_tuple)\n",
    "print(type(list_to_tuple))\n",
    "print(type(tuple_to_list))"
   ]
  },
  {
   "cell_type": "markdown",
   "id": "d69a0303",
   "metadata": {},
   "source": [
    "## 6. list to set AND set to list"
   ]
  },
  {
   "cell_type": "code",
   "execution_count": 2,
   "id": "5f5c26b3",
   "metadata": {},
   "outputs": [
    {
     "name": "stdout",
     "output_type": "stream",
     "text": [
      "<class 'set'>\n",
      "<class 'list'>\n"
     ]
    }
   ],
   "source": [
    "my_list = [1, 2, 3, 4, 5, 6, 7, 8, 9]\n",
    "list_to_set = set(my_list)\n",
    "print(type(list_to_set))\n",
    "my_set = {1, 2, 3, 4, 5} \n",
    "set_to_list = list(my_set)\n",
    "print(type(set_to_list))\n"
   ]
  },
  {
   "cell_type": "markdown",
   "id": "8f74d804",
   "metadata": {},
   "source": [
    "## 7. to bool"
   ]
  },
  {
   "cell_type": "markdown",
   "id": "24e79a56",
   "metadata": {},
   "source": [
    "> If the datatype have value it will be true, if the variable have null value it will be false "
   ]
  },
  {
   "cell_type": "code",
   "execution_count": 5,
   "id": "5127ec04",
   "metadata": {},
   "outputs": [
    {
     "name": "stdout",
     "output_type": "stream",
     "text": [
      "<class 'bool'>\n",
      "True\n",
      "<class 'bool'>\n",
      "False\n"
     ]
    }
   ],
   "source": [
    "number = 5\n",
    "number = bool(number)\n",
    "print(type(number))\n",
    "print(number)\n",
    "empty_list = []\n",
    "empty_list = bool(empty_list)\n",
    "print(type(empty_list))\n",
    "print(empty_list)"
   ]
  },
  {
   "cell_type": "markdown",
   "id": "21d0dca9",
   "metadata": {},
   "source": [
    "# comments"
   ]
  },
  {
   "cell_type": "code",
   "execution_count": 6,
   "id": "8c263fe3",
   "metadata": {},
   "outputs": [
    {
     "name": "stdout",
     "output_type": "stream",
     "text": [
      "<class 'bool'>\n"
     ]
    }
   ],
   "source": [
    "variable = \"Hello\"# this is the variable\n",
    "variable = bool(variable)\n",
    "print(type(variable))"
   ]
  }
 ],
 "metadata": {
  "kernelspec": {
   "display_name": "python_basics",
   "language": "python",
   "name": "python3"
  },
  "language_info": {
   "codemirror_mode": {
    "name": "ipython",
    "version": 3
   },
   "file_extension": ".py",
   "mimetype": "text/x-python",
   "name": "python",
   "nbconvert_exporter": "python",
   "pygments_lexer": "ipython3",
   "version": "3.10.18"
  }
 },
 "nbformat": 4,
 "nbformat_minor": 5
}
