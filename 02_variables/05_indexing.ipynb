{
 "cells": [
  {
   "cell_type": "markdown",
   "id": "930dd86c",
   "metadata": {},
   "source": [
    "# Indexing"
   ]
  },
  {
   "cell_type": "code",
   "execution_count": 1,
   "id": "58f7d7f8",
   "metadata": {},
   "outputs": [],
   "source": [
    "name = \"Ahsan\""
   ]
  },
  {
   "cell_type": "code",
   "execution_count": 2,
   "id": "7d965775",
   "metadata": {},
   "outputs": [
    {
     "data": {
      "text/plain": [
       "5"
      ]
     },
     "execution_count": 2,
     "metadata": {},
     "output_type": "execute_result"
    }
   ],
   "source": [
    "len(name)"
   ]
  },
  {
   "cell_type": "code",
   "execution_count": 3,
   "id": "cb84fc48",
   "metadata": {},
   "outputs": [
    {
     "data": {
      "text/plain": [
       "'n'"
      ]
     },
     "execution_count": 3,
     "metadata": {},
     "output_type": "execute_result"
    }
   ],
   "source": [
    "name[-1]"
   ]
  },
  {
   "cell_type": "code",
   "execution_count": 4,
   "id": "b391978e",
   "metadata": {},
   "outputs": [
    {
     "data": {
      "text/plain": [
       "'h'"
      ]
     },
     "execution_count": 4,
     "metadata": {},
     "output_type": "execute_result"
    }
   ],
   "source": [
    "name[1:2]"
   ]
  },
  {
   "cell_type": "code",
   "execution_count": 7,
   "id": "3f28b6f6",
   "metadata": {},
   "outputs": [
    {
     "data": {
      "text/plain": [
       "('hsan',)"
      ]
     },
     "execution_count": 7,
     "metadata": {},
     "output_type": "execute_result"
    }
   ],
   "source": [
    "name[1:5],"
   ]
  },
  {
   "cell_type": "code",
   "execution_count": 8,
   "id": "372e5680",
   "metadata": {},
   "outputs": [
    {
     "data": {
      "text/plain": [
       "'san'"
      ]
     },
     "execution_count": 8,
     "metadata": {},
     "output_type": "execute_result"
    }
   ],
   "source": [
    "name[2:]"
   ]
  },
  {
   "cell_type": "code",
   "execution_count": 10,
   "id": "d1343ccd",
   "metadata": {},
   "outputs": [
    {
     "data": {
      "text/plain": [
       "'sa'"
      ]
     },
     "execution_count": 10,
     "metadata": {},
     "output_type": "execute_result"
    }
   ],
   "source": [
    "name[-3:-1]"
   ]
  },
  {
   "cell_type": "code",
   "execution_count": 14,
   "id": "56609126",
   "metadata": {},
   "outputs": [],
   "source": [
    "list1= [1,2,3,4,5,6,7,8,9,10]"
   ]
  },
  {
   "cell_type": "code",
   "execution_count": 16,
   "id": "d753b829",
   "metadata": {},
   "outputs": [
    {
     "data": {
      "text/plain": [
       "10"
      ]
     },
     "execution_count": 16,
     "metadata": {},
     "output_type": "execute_result"
    }
   ],
   "source": [
    "len(list1)"
   ]
  },
  {
   "cell_type": "code",
   "execution_count": 17,
   "id": "32e63b93",
   "metadata": {},
   "outputs": [
    {
     "data": {
      "text/plain": [
       "6"
      ]
     },
     "execution_count": 17,
     "metadata": {},
     "output_type": "execute_result"
    }
   ],
   "source": [
    "list1[5]"
   ]
  },
  {
   "cell_type": "markdown",
   "id": "60437757",
   "metadata": {},
   "source": [
    ">  SO, These are the concepts of indexing."
   ]
  }
 ],
 "metadata": {
  "kernelspec": {
   "display_name": "python_basics",
   "language": "python",
   "name": "python3"
  },
  "language_info": {
   "codemirror_mode": {
    "name": "ipython",
    "version": 3
   },
   "file_extension": ".py",
   "mimetype": "text/x-python",
   "name": "python",
   "nbconvert_exporter": "python",
   "pygments_lexer": "ipython3",
   "version": "3.10.18"
  }
 },
 "nbformat": 4,
 "nbformat_minor": 5
}
