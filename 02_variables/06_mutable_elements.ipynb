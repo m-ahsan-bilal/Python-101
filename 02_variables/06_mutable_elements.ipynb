{
 "cells": [
  {
   "cell_type": "markdown",
   "id": "33a533b6",
   "metadata": {},
   "source": [
    "# Mutable  Elements"
   ]
  },
  {
   "cell_type": "code",
   "execution_count": 1,
   "id": "c2c3d2f8",
   "metadata": {},
   "outputs": [],
   "source": [
    "list = [\"Ahsan\", \"Ali\", \"Awais\",\"Shahid\", \"Tariq\"]"
   ]
  },
  {
   "cell_type": "code",
   "execution_count": 2,
   "id": "01481b33",
   "metadata": {},
   "outputs": [],
   "source": [
    "list[1] = \"Hussnain\""
   ]
  },
  {
   "cell_type": "code",
   "execution_count": 3,
   "id": "29d7738b",
   "metadata": {},
   "outputs": [
    {
     "data": {
      "text/plain": [
       "['Ahsan', 'Hussnain', 'Awais', 'Shahid', 'Tariq']"
      ]
     },
     "execution_count": 3,
     "metadata": {},
     "output_type": "execute_result"
    }
   ],
   "source": [
    "list"
   ]
  },
  {
   "cell_type": "code",
   "execution_count": 4,
   "id": "748dd2c3",
   "metadata": {},
   "outputs": [],
   "source": [
    "tupples={\"Ahsan\", \"Ali\", \"Awais\",\"Shahid\", \"Tariq\"\n",
    "}"
   ]
  },
  {
   "cell_type": "code",
   "execution_count": 5,
   "id": "4ace3440",
   "metadata": {},
   "outputs": [
    {
     "ename": "TypeError",
     "evalue": "'set' object does not support item assignment",
     "output_type": "error",
     "traceback": [
      "\u001b[1;31m---------------------------------------------------------------------------\u001b[0m",
      "\u001b[1;31mTypeError\u001b[0m                                 Traceback (most recent call last)",
      "Cell \u001b[1;32mIn[5], line 1\u001b[0m\n\u001b[1;32m----> 1\u001b[0m \u001b[43mtupples\u001b[49m\u001b[43m[\u001b[49m\u001b[38;5;241;43m2\u001b[39;49m\u001b[43m]\u001b[49m \u001b[38;5;241m=\u001b[39m \u001b[38;5;124m\"\u001b[39m\u001b[38;5;124mMohsin\u001b[39m\u001b[38;5;124m\"\u001b[39m\n",
      "\u001b[1;31mTypeError\u001b[0m: 'set' object does not support item assignment"
     ]
    }
   ],
   "source": [
    "tupples[2] = \"Mohsin\""
   ]
  },
  {
   "cell_type": "markdown",
   "id": "a118f8cc",
   "metadata": {},
   "source": [
    "Resolve this error:"
   ]
  }
 ],
 "metadata": {
  "kernelspec": {
   "display_name": "python_basics",
   "language": "python",
   "name": "python3"
  },
  "language_info": {
   "codemirror_mode": {
    "name": "ipython",
    "version": 3
   },
   "file_extension": ".py",
   "mimetype": "text/x-python",
   "name": "python",
   "nbconvert_exporter": "python",
   "pygments_lexer": "ipython3",
   "version": "3.10.18"
  }
 },
 "nbformat": 4,
 "nbformat_minor": 5
}
