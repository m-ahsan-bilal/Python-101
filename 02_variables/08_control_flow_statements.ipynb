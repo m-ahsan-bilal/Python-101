{
 "cells": [
  {
   "cell_type": "markdown",
   "id": "e9bdd167",
   "metadata": {},
   "source": [
    "# ***Control Flow Statements***"
   ]
  },
  {
   "cell_type": "markdown",
   "id": "914e83cb",
   "metadata": {},
   "source": [
    "## if elif else "
   ]
  },
  {
   "cell_type": "code",
   "execution_count": 1,
   "id": "6f7f29d4",
   "metadata": {},
   "outputs": [
    {
     "name": "stdout",
     "output_type": "stream",
     "text": [
      "You are eligible to cast your vote\n"
     ]
    }
   ],
   "source": [
    "age = input(\"Enter your age:\")\n",
    "age = int(age)\n",
    "if age >= 18:\n",
    "    print(\"You are eligible to cast your vote\")\n",
    "elif age == 17:\n",
    "    print(\"You are almost eligible to cast your vote. Please wait for one more year.\")\n",
    "else : \n",
    "    print(\"You are not eligible. \")"
   ]
  },
  {
   "cell_type": "markdown",
   "id": "e11f9638",
   "metadata": {},
   "source": [
    "# Examples"
   ]
  },
  {
   "cell_type": "code",
   "execution_count": 2,
   "id": "19afb695",
   "metadata": {},
   "outputs": [
    {
     "name": "stdout",
     "output_type": "stream",
     "text": [
      "It's a pleasant day\n"
     ]
    }
   ],
   "source": [
    "temp = 20 \n",
    "if temp >= 30:\n",
    "    print(\"It's hot today\")\n",
    "elif temp <= 10:\n",
    "    print(\"It's  cold today\")\n",
    "else: \n",
    "    print(\"It's a pleasant day\")        "
   ]
  },
  {
   "cell_type": "code",
   "execution_count": 3,
   "id": "3cd79f29",
   "metadata": {},
   "outputs": [
    {
     "name": "stdout",
     "output_type": "stream",
     "text": [
      "Prepare some sweet dishes\n"
     ]
    }
   ],
   "source": [
    "occassion = \"Eid-ul-fitr\"\n",
    "if occassion == \"Eid-ul-fitr\":\n",
    "    print(\"Prepare some sweet dishes\")\n",
    "elif occassion == \"Eid-ul-Adha\":\n",
    "    print(\"Prepare some meat dishes\")\n",
    "else: \n",
    "    print(\" make some vegetables\")       \n"
   ]
  },
  {
   "cell_type": "markdown",
   "id": "90e6b9ee",
   "metadata": {},
   "source": [
    "# Nested if Statement"
   ]
  },
  {
   "cell_type": "code",
   "execution_count": 4,
   "id": "5b65953b",
   "metadata": {},
   "outputs": [
    {
     "name": "stdout",
     "output_type": "stream",
     "text": [
      "You can drive\n"
     ]
    }
   ],
   "source": [
    "age =18\n",
    "license = True\n",
    "if age >= 18:\n",
    "    if license:\n",
    "        print(\"You can drive\")\n",
    "    else: \n",
    "        print(\"You can not drive without a license\")\n",
    "else:   \n",
    "    print(\"You can not drive because you are under age\")\n"
   ]
  },
  {
   "cell_type": "markdown",
   "id": "e1cd1871",
   "metadata": {},
   "source": [
    "# Loop"
   ]
  },
  {
   "cell_type": "markdown",
   "id": "59dc2293",
   "metadata": {},
   "source": [
    "## 1. for loop"
   ]
  },
  {
   "cell_type": "code",
   "execution_count": 5,
   "id": "746bb02c",
   "metadata": {},
   "outputs": [
    {
     "name": "stdout",
     "output_type": "stream",
     "text": [
      "Ahsan\n",
      "Ali\n",
      "Ahmed\n",
      "Asad\n"
     ]
    }
   ],
   "source": [
    "list = [\"Ahsan\",\"Ali\",\"Ahmed\",\"Asad\"]\n",
    "for i in list:\n",
    "    print(i)"
   ]
  },
  {
   "cell_type": "markdown",
   "id": "6964c6e4",
   "metadata": {},
   "source": [
    "## 2. while loop "
   ]
  },
  {
   "cell_type": "code",
   "execution_count": 6,
   "id": "0dc24027",
   "metadata": {},
   "outputs": [
    {
     "name": "stdout",
     "output_type": "stream",
     "text": [
      "1 cup of tea is served!\n",
      "2 cup of tea is served!\n",
      "3 cup of tea is served!\n",
      "4 cup of tea is served!\n",
      "5 cup of tea is served!\n",
      "No more tea for today!\n"
     ]
    }
   ],
   "source": [
    "cups_of_tea = 0\n",
    "while cups_of_tea <5:\n",
    "    cups_of_tea +=1\n",
    "    print(f\"{cups_of_tea} cup of tea is served!\")\n",
    "\n",
    "print(\"No more tea for today!\")    "
   ]
  },
  {
   "cell_type": "markdown",
   "id": "4550aa2c",
   "metadata": {},
   "source": [
    "# Break Continue Statement"
   ]
  },
  {
   "cell_type": "code",
   "execution_count": 19,
   "id": "a7498f73",
   "metadata": {},
   "outputs": [
    {
     "name": "stdout",
     "output_type": "stream",
     "text": [
      "i have had 1 cup of tea\n",
      "i have had 2 cup of tea\n",
      "Too much already\n",
      "No more tea for today!\n"
     ]
    }
   ],
   "source": [
    "cups_of_tea = 0\n",
    "while cups_of_tea <5:\n",
    "    cups_of_tea +=1\n",
    "    # print(f\"{cups_of_tea} cup of tea is served!\")\n",
    "    # print(\"i have had\", cups_of_tea, \"cup of tea\")\n",
    "    if cups_of_tea == 3:\n",
    "        print(\"Too much already\")\n",
    "        break\n",
    "    print(\"i have had\", cups_of_tea, \"cup of tea\")\n",
    "\n",
    "print(\"No more tea for today!\")   "
   ]
  },
  {
   "cell_type": "markdown",
   "id": "af45cf50",
   "metadata": {},
   "source": [
    "# continue"
   ]
  },
  {
   "cell_type": "code",
   "execution_count": 25,
   "id": "de8c709d",
   "metadata": {},
   "outputs": [
    {
     "name": "stdout",
     "output_type": "stream",
     "text": [
      "i have had 1 cup of tea\n",
      "i have had 2 cup of tea\n",
      "i have had 4 cup of tea\n",
      "i have had 5 cup of tea\n",
      "No more tea for today!\n"
     ]
    }
   ],
   "source": [
    "cups_of_tea = 0\n",
    "while cups_of_tea <5:\n",
    "    cups_of_tea +=1\n",
    "    # print(f\"{cups_of_tea} cup of tea is served!\")\n",
    "    # print(\"i have had\", cups_of_tea, \"cup of tea\")\n",
    "    if cups_of_tea ==3:\n",
    "       continue\n",
    "    print(\"i have had\", cups_of_tea, \"cup of tea\")\n",
    "        \n",
    "\n",
    "print(\"No more tea for today!\")     "
   ]
  },
  {
   "cell_type": "markdown",
   "id": "35584462",
   "metadata": {},
   "source": [
    "# Range function in loops"
   ]
  },
  {
   "cell_type": "markdown",
   "id": "d7261823",
   "metadata": {},
   "source": [
    "> for serving tea of cup"
   ]
  },
  {
   "cell_type": "code",
   "execution_count": 17,
   "id": "111c6052",
   "metadata": {},
   "outputs": [
    {
     "name": "stdout",
     "output_type": "stream",
     "text": [
      "1  cup of tea is served!\n",
      "3  cup of tea is served!\n",
      "5  cup of tea is served!\n"
     ]
    }
   ],
   "source": [
    "for cup in range(1,6,2):\n",
    "    print (cup,\" cup of tea is served!\")"
   ]
  },
  {
   "cell_type": "markdown",
   "id": "2def0507",
   "metadata": {},
   "source": [
    "# Infinite Loops"
   ]
  },
  {
   "cell_type": "code",
   "execution_count": null,
   "id": "d371f9f1",
   "metadata": {},
   "outputs": [],
   "source": [
    "while True:\n",
    "    print(\" this loop will run forever\")\n",
    "    break # to stop the loop"
   ]
  },
  {
   "cell_type": "markdown",
   "id": "f312b5a9",
   "metadata": {},
   "source": [
    "# Pass Statement"
   ]
  },
  {
   "cell_type": "code",
   "execution_count": 26,
   "id": "b446cb1b",
   "metadata": {},
   "outputs": [
    {
     "name": "stdout",
     "output_type": "stream",
     "text": [
      "1 cup of tea is served!\n",
      "2 cup of tea is served!\n",
      "3 cup of tea is served!\n",
      "4 cup of tea is served!\n",
      "5 cup of tea is served!\n",
      "No more tea for today!\n"
     ]
    }
   ],
   "source": [
    "cups_of_tea = 0\n",
    "while cups_of_tea <5:\n",
    "    cups_of_tea +=1\n",
    "    pass\n",
    "    print(f\"{cups_of_tea} cup of tea is served!\")\n",
    "\n",
    "print(\"No more tea for today!\")   "
   ]
  },
  {
   "cell_type": "markdown",
   "id": "cab9d136",
   "metadata": {},
   "source": [
    "# try, except and finally "
   ]
  },
  {
   "cell_type": "code",
   "execution_count": 3,
   "id": "6d7cbc9a",
   "metadata": {},
   "outputs": [
    {
     "name": "stdout",
     "output_type": "stream",
     "text": [
      "Hello, this is the example of try catch in python\n"
     ]
    },
    {
     "ename": "ZeroDivisionError",
     "evalue": "division by zero",
     "output_type": "error",
     "traceback": [
      "\u001b[1;31m---------------------------------------------------------------------------\u001b[0m",
      "\u001b[1;31mZeroDivisionError\u001b[0m                         Traceback (most recent call last)",
      "Cell \u001b[1;32mIn[3], line 2\u001b[0m\n\u001b[0;32m      1\u001b[0m \u001b[38;5;28mprint\u001b[39m(\u001b[38;5;124m\"\u001b[39m\u001b[38;5;124mHello, this is the example of try catch in python\u001b[39m\u001b[38;5;124m\"\u001b[39m)\n\u001b[1;32m----> 2\u001b[0m \u001b[38;5;28mprint\u001b[39m(\u001b[38;5;241;43m1\u001b[39;49m\u001b[38;5;241;43m/\u001b[39;49m\u001b[38;5;241;43m0\u001b[39;49m)\n",
      "\u001b[1;31mZeroDivisionError\u001b[0m: division by zero"
     ]
    }
   ],
   "source": [
    "print(\"Hello, this is the example of try catch in python\")\n",
    "print(1/0)"
   ]
  },
  {
   "cell_type": "code",
   "execution_count": 1,
   "id": "c4de6abe",
   "metadata": {},
   "outputs": [
    {
     "name": "stdout",
     "output_type": "stream",
     "text": [
      "Hello, this is the example of try catch in python\n",
      "You can not divide a number by zero\n",
      "This will always execute, regardless of an error\n"
     ]
    }
   ],
   "source": [
    "# example of try except finally \n",
    "try:\n",
    "    print(\"Hello, this is the example of try catch in python\")\n",
    "    print(1/0)\n",
    "except  ZeroDivisionError:\n",
    "    print(\"You can not divide a number by zero\")\n",
    "finally:\n",
    "    print(\"This will always execute, regardless of an error\")       "
   ]
  },
  {
   "cell_type": "code",
   "execution_count": 4,
   "id": "ed67fa56",
   "metadata": {},
   "outputs": [
    {
     "name": "stdout",
     "output_type": "stream",
     "text": [
      "Hello, this is the example of try catch in python\n",
      "0.2\n",
      "This will always execute, regardless of an error\n"
     ]
    }
   ],
   "source": [
    "# example of try except finally \n",
    "try:\n",
    "    print(\"Hello, this is the example of try catch in python\")\n",
    "    print(1/5)\n",
    "except  ZeroDivisionError:\n",
    "    print(\"You can not divide a number by zero\")\n",
    "finally:\n",
    "    print(\"This will always execute, regardless of an error\")  "
   ]
  },
  {
   "cell_type": "code",
   "execution_count": null,
   "id": "66d0cf6b",
   "metadata": {},
   "outputs": [],
   "source": [
    " "
   ]
  }
 ],
 "metadata": {
  "kernelspec": {
   "display_name": "python_basics",
   "language": "python",
   "name": "python3"
  },
  "language_info": {
   "codemirror_mode": {
    "name": "ipython",
    "version": 3
   },
   "file_extension": ".py",
   "mimetype": "text/x-python",
   "name": "python",
   "nbconvert_exporter": "python",
   "pygments_lexer": "ipython3",
   "version": "3.10.18"
  }
 },
 "nbformat": 4,
 "nbformat_minor": 5
}
