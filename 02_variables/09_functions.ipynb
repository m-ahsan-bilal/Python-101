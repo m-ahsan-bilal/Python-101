{
 "cells": [
  {
   "cell_type": "markdown",
   "id": "b89c508b",
   "metadata": {},
   "source": [
    "# Functions"
   ]
  },
  {
   "cell_type": "markdown",
   "id": "2d0efec9",
   "metadata": {},
   "source": [
    "Built in Functions "
   ]
  },
  {
   "cell_type": "code",
   "execution_count": 2,
   "id": "d7645bd0",
   "metadata": {},
   "outputs": [
    {
     "name": "stdout",
     "output_type": "stream",
     "text": [
      "1699\n"
     ]
    },
    {
     "data": {
      "text/plain": [
       "1699"
      ]
     },
     "execution_count": 2,
     "metadata": {},
     "output_type": "execute_result"
    }
   ],
   "source": [
    "prices = [200,300,400,799]\n",
    "print(200+300+400+799)\n",
    "sum(prices)\n"
   ]
  },
  {
   "cell_type": "code",
   "execution_count": 3,
   "id": "8e9d1844",
   "metadata": {},
   "outputs": [
    {
     "data": {
      "text/plain": [
       "799"
      ]
     },
     "execution_count": 3,
     "metadata": {},
     "output_type": "execute_result"
    }
   ],
   "source": [
    "max(prices)"
   ]
  },
  {
   "cell_type": "code",
   "execution_count": 4,
   "id": "3dbf1bac",
   "metadata": {},
   "outputs": [
    {
     "data": {
      "text/plain": [
       "200"
      ]
     },
     "execution_count": 4,
     "metadata": {},
     "output_type": "execute_result"
    }
   ],
   "source": [
    "min(prices)"
   ]
  },
  {
   "cell_type": "code",
   "execution_count": 5,
   "id": "590b7176",
   "metadata": {},
   "outputs": [
    {
     "ename": "NameError",
     "evalue": "name 'mean' is not defined",
     "output_type": "error",
     "traceback": [
      "\u001b[1;31m---------------------------------------------------------------------------\u001b[0m",
      "\u001b[1;31mNameError\u001b[0m                                 Traceback (most recent call last)",
      "Cell \u001b[1;32mIn[5], line 1\u001b[0m\n\u001b[1;32m----> 1\u001b[0m \u001b[43mmean\u001b[49m(prices)\n",
      "\u001b[1;31mNameError\u001b[0m: name 'mean' is not defined"
     ]
    }
   ],
   "source": [
    "mean(prices)"
   ]
  },
  {
   "cell_type": "code",
   "execution_count": 7,
   "id": "690c007e",
   "metadata": {},
   "outputs": [
    {
     "name": "stdout",
     "output_type": "stream",
     "text": [
      "424.75\n"
     ]
    }
   ],
   "source": [
    "mean = sum(prices) / len(prices)\n",
    "print(mean)"
   ]
  },
  {
   "cell_type": "markdown",
   "id": "ca761d39",
   "metadata": {},
   "source": [
    "# User Defined Functions"
   ]
  },
  {
   "cell_type": "code",
   "execution_count": 12,
   "id": "2c1e66bb",
   "metadata": {},
   "outputs": [],
   "source": [
    "def greet(name):\n",
    "    print(\"Hello \" + name + \" Assalamualaikum!\")\n"
   ]
  },
  {
   "cell_type": "code",
   "execution_count": 13,
   "id": "f4f01918",
   "metadata": {},
   "outputs": [
    {
     "name": "stdout",
     "output_type": "stream",
     "text": [
      "Hello Ahsan Assalamualaikum!\n"
     ]
    }
   ],
   "source": [
    "greet(\"Ahsan\")"
   ]
  },
  {
   "cell_type": "markdown",
   "id": "4b196e9a",
   "metadata": {},
   "source": [
    "## Define mean funnction"
   ]
  },
  {
   "cell_type": "code",
   "execution_count": 25,
   "id": "e2a20a86",
   "metadata": {},
   "outputs": [],
   "source": [
    "def mean_of_list(numbers):\n",
    "    \"\"\"\n",
    "    This function takes a list of numbers and returns the mean of those numbers.\n",
    "    \"\"\"\n",
    "    sum_of_numbers = sum(numbers)\n",
    "    lenth_of_numbers = len(numbers)\n",
    "    # return the mean and round it off to 2 decimal places\n",
    "    mean = sum_of_numbers/ lenth_of_numbers\n",
    "    return round(mean, 3)\n"
   ]
  },
  {
   "cell_type": "code",
   "execution_count": 26,
   "id": "78386553",
   "metadata": {},
   "outputs": [
    {
     "data": {
      "text/plain": [
       "1100.0"
      ]
     },
     "execution_count": 26,
     "metadata": {},
     "output_type": "execute_result"
    }
   ],
   "source": [
    "prices = [200, 3001, 400, 799]\n",
    "mean_of_list(prices)"
   ]
  },
  {
   "cell_type": "markdown",
   "id": "0f8a755c",
   "metadata": {},
   "source": [
    "> ***docstring***"
   ]
  },
  {
   "cell_type": "code",
   "execution_count": 28,
   "id": "ac2ccfe1",
   "metadata": {},
   "outputs": [
    {
     "name": "stdout",
     "output_type": "stream",
     "text": [
      "\u001b[1;31mSignature:\u001b[0m \u001b[0mmean_of_list\u001b[0m\u001b[1;33m(\u001b[0m\u001b[0mnumbers\u001b[0m\u001b[1;33m)\u001b[0m\u001b[1;33m\u001b[0m\u001b[1;33m\u001b[0m\u001b[0m\n",
      "\u001b[1;31mDocstring:\u001b[0m This function takes a list of numbers and returns the mean of those numbers.\n",
      "\u001b[1;31mFile:\u001b[0m      c:\\users\\ahsan\\appdata\\local\\temp\\ipykernel_12960\\4181559602.py\n",
      "\u001b[1;31mType:\u001b[0m      function"
     ]
    }
   ],
   "source": [
    "?mean_of_list"
   ]
  },
  {
   "cell_type": "code",
   "execution_count": 29,
   "id": "6fe8b4fc",
   "metadata": {},
   "outputs": [],
   "source": [
    "def add(a,b):\n",
    "    \"\"\"\n",
    "    This function takes two numbers and returns their sum.\n",
    "    \"\"\"\n",
    "    addition = a + b\n",
    "    return addition"
   ]
  },
  {
   "cell_type": "code",
   "execution_count": 30,
   "id": "0e5e849c",
   "metadata": {},
   "outputs": [
    {
     "data": {
      "text/plain": [
       "5"
      ]
     },
     "execution_count": 30,
     "metadata": {},
     "output_type": "execute_result"
    }
   ],
   "source": [
    "add(2, 3)"
   ]
  },
  {
   "cell_type": "markdown",
   "id": "d90b34ee",
   "metadata": {},
   "source": [
    "### function for three parameters"
   ]
  },
  {
   "cell_type": "code",
   "execution_count": 35,
   "id": "bd8402e1",
   "metadata": {},
   "outputs": [],
   "source": [
    "def add(a,b,c):\n",
    "    \"\"\"\n",
    "    This function takes two numbers and returns their sum.\n",
    "    \"\"\"\n",
    "    addition = a + b +c\n",
    "    return addition"
   ]
  },
  {
   "cell_type": "code",
   "execution_count": 36,
   "id": "10aa3b74",
   "metadata": {},
   "outputs": [
    {
     "data": {
      "text/plain": [
       "9"
      ]
     },
     "execution_count": 36,
     "metadata": {},
     "output_type": "execute_result"
    }
   ],
   "source": [
    "add(2, 3 , 4)"
   ]
  },
  {
   "cell_type": "code",
   "execution_count": null,
   "id": "b7a5503a",
   "metadata": {},
   "outputs": [],
   "source": [
    "def add_dynamic(*args):\n",
    "    \"\"\"\n",
    "    This function takes a variable number of arguments and returns their sum.\n",
    "    \"\"\"\n",
    "    \n",
    "    return sum(args)\n",
    "    "
   ]
  },
  {
   "cell_type": "code",
   "execution_count": 38,
   "id": "63d8bbcc",
   "metadata": {},
   "outputs": [
    {
     "data": {
      "text/plain": [
       "20"
      ]
     },
     "execution_count": 38,
     "metadata": {},
     "output_type": "execute_result"
    }
   ],
   "source": [
    "add_dynamic(2, 3, 4, 5, 6)"
   ]
  },
  {
   "cell_type": "markdown",
   "id": "19d7cbfb",
   "metadata": {},
   "source": [
    "### Introduce Function"
   ]
  },
  {
   "cell_type": "code",
   "execution_count": 44,
   "id": "8cd014f1",
   "metadata": {},
   "outputs": [],
   "source": [
    "def introduce(name, age, city):\n",
    "    \"\"\"\n",
    "    This function takes a name, age, and city and returns a formatted string.\n",
    "    \"\"\"\n",
    "    print(\"Hello, My name is \"+ name + \", I am \"+ str(age)+\" years old and  I live in \"+ city+\".\")\n",
    "    "
   ]
  },
  {
   "cell_type": "markdown",
   "id": "54bbd5c6",
   "metadata": {},
   "source": [
    "> By using str(age) we concatenate the age in string."
   ]
  },
  {
   "cell_type": "code",
   "execution_count": 46,
   "id": "5d3d5628",
   "metadata": {},
   "outputs": [
    {
     "name": "stdout",
     "output_type": "stream",
     "text": [
      "Hello, My name is Ahsan, I am twenty years old and  I live in Karachi.\n"
     ]
    }
   ],
   "source": [
    "introduce(\"Ahsan\", \"twenty\", \"Karachi\")"
   ]
  },
  {
   "cell_type": "markdown",
   "id": "eb29c2e6",
   "metadata": {},
   "source": [
    "### Function witout  parameters"
   ]
  },
  {
   "cell_type": "code",
   "execution_count": 47,
   "id": "4264f11f",
   "metadata": {},
   "outputs": [],
   "source": [
    "def say_hello():\n",
    "    \"\"\"\n",
    "    This function prints a greeting message.\n",
    "    \"\"\"\n",
    "    print(\" Hello, I am Ahsan, I am a software engineer and I love to code.\")"
   ]
  },
  {
   "cell_type": "code",
   "execution_count": 48,
   "id": "95b43d46",
   "metadata": {},
   "outputs": [
    {
     "name": "stdout",
     "output_type": "stream",
     "text": [
      " Hello, I am Ahsan, I am a software engineer and I love to code.\n"
     ]
    }
   ],
   "source": [
    "say_hello()"
   ]
  },
  {
   "cell_type": "code",
   "execution_count": 54,
   "id": "e1a3bb6f",
   "metadata": {},
   "outputs": [],
   "source": [
    "def say_hello(name):\n",
    "    \"\"\"\n",
    "    This function prints a greeting message with the given name.\n",
    "    \"\"\"\n",
    "    print(\" Hello, I am \"+ name+ \", I am a software engineer and I love to code.\")"
   ]
  },
  {
   "cell_type": "code",
   "execution_count": 55,
   "id": "e295c491",
   "metadata": {},
   "outputs": [
    {
     "name": "stdout",
     "output_type": "stream",
     "text": [
      " Hello, I am Ahsan, I am a software engineer and I love to code.\n"
     ]
    }
   ],
   "source": [
    "say_hello(\"Ahsan\")"
   ]
  },
  {
   "cell_type": "markdown",
   "id": "7419a084",
   "metadata": {},
   "source": [
    "### Default parameter"
   ]
  },
  {
   "cell_type": "code",
   "execution_count": 56,
   "id": "cc80b43a",
   "metadata": {},
   "outputs": [],
   "source": [
    "def greet(name = \"Ahsan\"):\n",
    "    \"\"\"\n",
    "    This function prints a greeting message with the given name.\n",
    "    If no name is provided, it defaults to \"Ahsan\".\n",
    "    \"\"\"\n",
    "    print(\"Hello \" + name + \", Assalamualaikum!\"    )"
   ]
  },
  {
   "cell_type": "code",
   "execution_count": 57,
   "id": "40737e13",
   "metadata": {},
   "outputs": [
    {
     "name": "stdout",
     "output_type": "stream",
     "text": [
      "Hello Ali, Assalamualaikum!\n",
      "Hello Ahsan, Assalamualaikum!\n"
     ]
    }
   ],
   "source": [
    "greet(\"Ali\")\n",
    "greet()  # This will use the default name \"Ahsan\""
   ]
  }
 ],
 "metadata": {
  "kernelspec": {
   "display_name": "python_basics",
   "language": "python",
   "name": "python3"
  },
  "language_info": {
   "codemirror_mode": {
    "name": "ipython",
    "version": 3
   },
   "file_extension": ".py",
   "mimetype": "text/x-python",
   "name": "python",
   "nbconvert_exporter": "python",
   "pygments_lexer": "ipython3",
   "version": "3.10.18"
  }
 },
 "nbformat": 4,
 "nbformat_minor": 5
}
