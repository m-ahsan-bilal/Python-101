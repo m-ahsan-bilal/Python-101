{
 "cells": [
  {
   "cell_type": "markdown",
   "id": "280e0135",
   "metadata": {},
   "source": [
    "# Lambda Functions"
   ]
  },
  {
   "cell_type": "code",
   "execution_count": 6,
   "id": "8a69ee03",
   "metadata": {},
   "outputs": [],
   "source": [
    "#  simple function\n",
    "def add(x,y):\n",
    "    \"\"\"Add two numbers.\"\"\"\n",
    "    return x+y"
   ]
  },
  {
   "cell_type": "markdown",
   "id": "146f3bfb",
   "metadata": {},
   "source": [
    "> this line is to see the function info"
   ]
  },
  {
   "cell_type": "code",
   "execution_count": 7,
   "id": "12fb1418",
   "metadata": {},
   "outputs": [
    {
     "name": "stdout",
     "output_type": "stream",
     "text": [
      "\u001b[1;31mSignature:\u001b[0m  \u001b[0madd\u001b[0m\u001b[1;33m(\u001b[0m\u001b[0mx\u001b[0m\u001b[1;33m,\u001b[0m \u001b[0my\u001b[0m\u001b[1;33m)\u001b[0m\u001b[1;33m\u001b[0m\u001b[1;33m\u001b[0m\u001b[0m\n",
      "\u001b[1;31mDocstring:\u001b[0m Add two numbers.\n",
      "\u001b[1;31mFile:\u001b[0m      c:\\users\\ahsan\\appdata\\local\\temp\\ipykernel_11316\\1548368054.py\n",
      "\u001b[1;31mType:\u001b[0m      function"
     ]
    }
   ],
   "source": [
    "? add"
   ]
  },
  {
   "cell_type": "code",
   "execution_count": 8,
   "id": "cebd2bee",
   "metadata": {},
   "outputs": [
    {
     "data": {
      "text/plain": [
       "13"
      ]
     },
     "execution_count": 8,
     "metadata": {},
     "output_type": "execute_result"
    }
   ],
   "source": [
    "add(4,9)"
   ]
  },
  {
   "cell_type": "code",
   "execution_count": 9,
   "id": "2d0c6e3f",
   "metadata": {},
   "outputs": [],
   "source": [
    "#  lambda function\n",
    "add_lambda = lambda x,y : x+y"
   ]
  },
  {
   "cell_type": "code",
   "execution_count": 10,
   "id": "4e6fe1f3",
   "metadata": {},
   "outputs": [
    {
     "data": {
      "text/plain": [
       "13"
      ]
     },
     "execution_count": 10,
     "metadata": {},
     "output_type": "execute_result"
    }
   ],
   "source": [
    "add_lambda(9,4)"
   ]
  },
  {
   "cell_type": "markdown",
   "id": "8b817c02",
   "metadata": {},
   "source": [
    "lambda fucntion with map"
   ]
  },
  {
   "cell_type": "code",
   "execution_count": 4,
   "id": "a40fd718",
   "metadata": {},
   "outputs": [
    {
     "name": "stdout",
     "output_type": "stream",
     "text": [
      "[1, 4, 9, 16, 25, 36, 49, 64, 81]\n"
     ]
    }
   ],
   "source": [
    "numbers = [1, 2, 3, 4, 5, 6, 7, 8, 9]\n",
    "squared_numbers = map(lambda x: x**2, numbers)\n",
    "print(list(squared_numbers))"
   ]
  },
  {
   "cell_type": "code",
   "execution_count": 5,
   "id": "0801b819",
   "metadata": {},
   "outputs": [
    {
     "name": "stdout",
     "output_type": "stream",
     "text": [
      "[1, 8, 27, 64, 125, 216, 343, 512, 729]\n"
     ]
    }
   ],
   "source": [
    "cubed_numbers = map(lambda x: x**3, numbers)\n",
    "print(list(cubed_numbers))"
   ]
  }
 ],
 "metadata": {
  "kernelspec": {
   "display_name": "python_basics",
   "language": "python",
   "name": "python3"
  },
  "language_info": {
   "codemirror_mode": {
    "name": "ipython",
    "version": 3
   },
   "file_extension": ".py",
   "mimetype": "text/x-python",
   "name": "python",
   "nbconvert_exporter": "python",
   "pygments_lexer": "ipython3",
   "version": "3.10.18"
  }
 },
 "nbformat": 4,
 "nbformat_minor": 5
}
