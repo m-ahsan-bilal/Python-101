{
 "cells": [
  {
   "cell_type": "markdown",
   "id": "02c95707",
   "metadata": {},
   "source": [
    "# User Input"
   ]
  },
  {
   "cell_type": "code",
   "execution_count": null,
   "id": "3ae0875c",
   "metadata": {},
   "outputs": [],
   "source": [
    "age = input(\"My age is: \")"
   ]
  },
  {
   "cell_type": "code",
   "execution_count": null,
   "id": "35723eff",
   "metadata": {},
   "outputs": [],
   "source": [
    "print(\"My age is: \" + age)\n",
    "print(\"My age is: {}\".format(age))\n",
    "print(f\"My age is: {age}\")\n",
    "print(\"My age is: %s\" % age)\n",
    "print(\"My age is: \" + str(age))"
   ]
  },
  {
   "cell_type": "code",
   "execution_count": null,
   "id": "5af67508",
   "metadata": {},
   "outputs": [],
   "source": [
    "cell_number = input(\"My cell number is: \")"
   ]
  },
  {
   "cell_type": "markdown",
   "id": "f27181a3",
   "metadata": {},
   "source": [
    "# Conditional logic input"
   ]
  },
  {
   "cell_type": "code",
   "execution_count": 16,
   "id": "3a69d367",
   "metadata": {},
   "outputs": [
    {
     "name": "stdout",
     "output_type": "stream",
     "text": [
      " Your age is: 12.\n"
     ]
    }
   ],
   "source": [
    "user_age = input(\"Write your age: \")\n",
    "\n",
    "if user_age.isdigit() :\n",
    "    if user_age == \"0\" :\n",
    "        print(\"Age can't be zero\")\n",
    "    else:\n",
    "        print(f\" Your age is: {user_age}.\")\n",
    "else: print(\"please write your age in valid form.\")    "
   ]
  },
  {
   "cell_type": "code",
   "execution_count": null,
   "id": "4d6e32c8",
   "metadata": {},
   "outputs": [],
   "source": []
  },
  {
   "cell_type": "code",
   "execution_count": null,
   "id": "01620843",
   "metadata": {},
   "outputs": [],
   "source": []
  }
 ],
 "metadata": {
  "kernelspec": {
   "display_name": "python_basics",
   "language": "python",
   "name": "python3"
  },
  "language_info": {
   "codemirror_mode": {
    "name": "ipython",
    "version": 3
   },
   "file_extension": ".py",
   "mimetype": "text/x-python",
   "name": "python",
   "nbconvert_exporter": "python",
   "pygments_lexer": "ipython3",
   "version": "3.10.18"
  }
 },
 "nbformat": 4,
 "nbformat_minor": 5
}
