{
 "cells": [
  {
   "cell_type": "markdown",
   "id": "9fe29266",
   "metadata": {},
   "source": [
    "# Print Methods"
   ]
  },
  {
   "cell_type": "markdown",
   "id": "23e70a8c",
   "metadata": {},
   "source": [
    "we will use separator \\n and mamny more things in this section"
   ]
  },
  {
   "cell_type": "markdown",
   "id": "53bc21f8",
   "metadata": {},
   "source": []
  }
 ],
 "metadata": {
  "language_info": {
   "name": "python"
  }
 },
 "nbformat": 4,
 "nbformat_minor": 5
}
