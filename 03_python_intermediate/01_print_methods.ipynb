{
 "cells": [
  {
   "cell_type": "markdown",
   "id": "9fe29266",
   "metadata": {},
   "source": [
    "# Print Methods"
   ]
  },
  {
   "cell_type": "markdown",
   "id": "23e70a8c",
   "metadata": {},
   "source": [
    "we will use separator \\n and many more things in this section"
   ]
  },
  {
   "cell_type": "code",
   "execution_count": 10,
   "id": "6a627bb2",
   "metadata": {},
   "outputs": [
    {
     "name": "stdout",
     "output_type": "stream",
     "text": [
      "Hello, Ahsan\n",
      "Hello Ahsan\n",
      "Hello,Ahsan\n",
      "Hello, Ahsan!\n"
     ]
    }
   ],
   "source": [
    "print(\"Hello, Ahsan\")\n",
    "print(\"Hello\", \"Ahsan\")\n",
    "print(\"Hello\", \"Ahsan\", sep=\",\")\n",
    "print(\"Hello\",\"Ahsan\", sep=\", \", end=\"!\\n\") # At here we can say that in simpe that these are the properties of the print fucntion.\n",
    " "
   ]
  },
  {
   "cell_type": "markdown",
   "id": "24b11146",
   "metadata": {},
   "source": [
    "## Formatted String Literals(f-strings)"
   ]
  },
  {
   "cell_type": "markdown",
   "id": "53bc21f8",
   "metadata": {},
   "source": [
    "> e.g print(f\"My name is {name}.\")"
   ]
  },
  {
   "cell_type": "code",
   "execution_count": 11,
   "id": "673ce118",
   "metadata": {},
   "outputs": [
    {
     "name": "stdout",
     "output_type": "stream",
     "text": [
      "My name is Ahsan and I am 20 years old.\n",
      "How are you\n"
     ]
    }
   ],
   "source": [
    "name = \"Ahsan\"\n",
    "age = 20\n",
    "final = \"How are you\"\n",
    "print(f\"My name is {name} and I am {age} years old.\\n{final}\")"
   ]
  },
  {
   "cell_type": "markdown",
   "id": "be93328d",
   "metadata": {},
   "source": [
    "## str.format()"
   ]
  },
  {
   "cell_type": "markdown",
   "id": "acfcda26",
   "metadata": {},
   "source": [
    "> {} is placeholder"
   ]
  },
  {
   "cell_type": "code",
   "execution_count": 13,
   "id": "b475cd3d",
   "metadata": {},
   "outputs": [
    {
     "name": "stdout",
     "output_type": "stream",
     "text": [
      "Hello, Buddy!\n",
      "Hello, Buddy!\n"
     ]
    }
   ],
   "source": [
    "print(\"Hello, {}\".format(\"Buddy!\"))\n",
    "print(\"Hello, {}!\".format(\"Buddy\"))"
   ]
  },
  {
   "cell_type": "markdown",
   "id": "7d92d5f0",
   "metadata": {},
   "source": [
    "## Percent Formatting"
   ]
  },
  {
   "cell_type": "markdown",
   "id": "0dbdc013",
   "metadata": {},
   "source": [
    "> This is old method like c language"
   ]
  },
  {
   "cell_type": "code",
   "execution_count": 14,
   "id": "4446a892",
   "metadata": {},
   "outputs": [
    {
     "name": "stdout",
     "output_type": "stream",
     "text": [
      "My name is Ahsan and I am 20 years old.\n"
     ]
    }
   ],
   "source": [
    "name = \"Ahsan\"\n",
    "age = 20\n",
    "print(\"My name is %s and I am %d years old.\" % (name,age))"
   ]
  },
  {
   "cell_type": "markdown",
   "id": "732506f7",
   "metadata": {},
   "source": [
    "> We can say that these are format specifiers like c language."
   ]
  },
  {
   "cell_type": "markdown",
   "id": "80a92a47",
   "metadata": {},
   "source": [
    "## Using sys.stdout.write()"
   ]
  },
  {
   "cell_type": "code",
   "execution_count": 15,
   "id": "5cfe01bf",
   "metadata": {},
   "outputs": [
    {
     "name": "stdout",
     "output_type": "stream",
     "text": [
      "Hello World\n"
     ]
    },
    {
     "data": {
      "text/plain": [
       "12"
      ]
     },
     "execution_count": 15,
     "metadata": {},
     "output_type": "execute_result"
    }
   ],
   "source": [
    "import sys\n",
    "sys.stdout.write(\"Hello World\\n\")"
   ]
  },
  {
   "cell_type": "markdown",
   "id": "8b948866",
   "metadata": {},
   "source": [
    "## Use end=\" in print"
   ]
  },
  {
   "cell_type": "code",
   "execution_count": 16,
   "id": "95117e0d",
   "metadata": {},
   "outputs": [
    {
     "name": "stdout",
     "output_type": "stream",
     "text": [
      "Hello"
     ]
    }
   ],
   "source": [
    "print(\"Hello\", end='')"
   ]
  },
  {
   "cell_type": "markdown",
   "id": "6e2e448a",
   "metadata": {},
   "source": [
    "## Multiline string"
   ]
  },
  {
   "cell_type": "code",
   "execution_count": 17,
   "id": "134a01ce",
   "metadata": {},
   "outputs": [
    {
     "name": "stdout",
     "output_type": "stream",
     "text": [
      "Hello Ahsan,\n",
      " How are you? \n"
     ]
    }
   ],
   "source": [
    "print(\"\"\"Hello Ahsan,\n",
    " How are you? \"\"\")"
   ]
  },
  {
   "cell_type": "markdown",
   "id": "d4c286d2",
   "metadata": {},
   "source": [
    "> f string withh multiline"
   ]
  },
  {
   "cell_type": "code",
   "execution_count": 19,
   "id": "0b658092",
   "metadata": {},
   "outputs": [
    {
     "name": "stdout",
     "output_type": "stream",
     "text": [
      "I'm Ahsan,\n",
      "       a 20 year old boy.\n"
     ]
    }
   ],
   "source": [
    "name = \"Ahsan\"\n",
    "age = 20\n",
    "print(f\"\"\"I'm {name},\n",
    "       a {age} year old boy.\"\"\")"
   ]
  },
  {
   "cell_type": "markdown",
   "id": "3b72faec",
   "metadata": {},
   "source": [
    "## print to a file"
   ]
  },
  {
   "cell_type": "markdown",
   "id": "e2c85bfb",
   "metadata": {},
   "source": [
    "print simple in the same folder path"
   ]
  },
  {
   "cell_type": "code",
   "execution_count": null,
   "id": "d7c3dbbb",
   "metadata": {},
   "outputs": [],
   "source": [
    "with open(\"print_to_file.txt\",\"w\") as f:\n",
    "    print(\"Hello, World\", file = f)"
   ]
  },
  {
   "cell_type": "markdown",
   "id": "4eafeb10",
   "metadata": {},
   "source": [
    "print to a file in forwars path"
   ]
  },
  {
   "cell_type": "code",
   "execution_count": 24,
   "id": "06708f88",
   "metadata": {},
   "outputs": [],
   "source": [
    "with open(\"./outputs/print_to_file.txt\",\"w\") as f:\n",
    "    print(\"Hello, World\", file = f)"
   ]
  },
  {
   "cell_type": "markdown",
   "id": "46cfd4a3",
   "metadata": {},
   "source": [
    "print to a file in previous directory"
   ]
  },
  {
   "cell_type": "code",
   "execution_count": 25,
   "id": "1db97af0",
   "metadata": {},
   "outputs": [],
   "source": [
    "with open(\"../print_to_file.txt\",\"w\") as f:\n",
    "    print(\"Hello, World\", file = f)"
   ]
  },
  {
   "cell_type": "code",
   "execution_count": 27,
   "id": "6264fbb4",
   "metadata": {},
   "outputs": [
    {
     "name": "stdout",
     "output_type": "stream",
     "text": [
      "My name is AhsanI am 25 years old.\n"
     ]
    }
   ],
   "source": [
    "#  Use of + to concatenate strings\n",
    "name = \"Ahsan\"\n",
    "age = 25\n",
    "print(\"My name is \"+ name +\"I am \"+ str(age) +\" years old.\" )"
   ]
  },
  {
   "cell_type": "markdown",
   "id": "dc59654e",
   "metadata": {},
   "source": []
  }
 ],
 "metadata": {
  "kernelspec": {
   "display_name": "python_basics",
   "language": "python",
   "name": "python3"
  },
  "language_info": {
   "codemirror_mode": {
    "name": "ipython",
    "version": 3
   },
   "file_extension": ".py",
   "mimetype": "text/x-python",
   "name": "python",
   "nbconvert_exporter": "python",
   "pygments_lexer": "ipython3",
   "version": "3.10.18"
  }
 },
 "nbformat": 4,
 "nbformat_minor": 5
}
